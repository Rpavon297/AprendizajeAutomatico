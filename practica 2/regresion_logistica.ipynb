{
 "cells": [
  {
   "cell_type": "code",
   "execution_count": 1,
   "metadata": {},
   "outputs": [],
   "source": [
    "from mpl_toolkits.mplot3d import Axes3D\n",
    "import matplotlib.pyplot as plt\n",
    "\n",
    "from matplotlib import cm\n",
    "from matplotlib.ticker import LinearLocator, FormatStrFormatter\n",
    "\n",
    "import numpy as np\n",
    "\n",
    "import csv\n",
    "import math\n",
    "import os\n",
    "\n"
   ]
  },
  {
   "cell_type": "code",
   "execution_count": 3,
   "metadata": {},
   "outputs": [
    {
     "ename": "FileNotFoundError",
     "evalue": "[Errno 2] No such file or directory: 'ex2data1.csv'",
     "traceback": [
      "\u001b[1;31m---------------------------------------------------------------------------\u001b[0m",
      "\u001b[1;31mFileNotFoundError\u001b[0m                         Traceback (most recent call last)",
      "\u001b[1;32m<ipython-input-3-47f4879353eb>\u001b[0m in \u001b[0;36m<module>\u001b[1;34m\u001b[0m\n\u001b[0;32m      4\u001b[0m \u001b[0mX2\u001b[0m \u001b[1;33m=\u001b[0m \u001b[0mnp\u001b[0m\u001b[1;33m.\u001b[0m\u001b[0marray\u001b[0m\u001b[1;33m(\u001b[0m\u001b[1;33m[\u001b[0m\u001b[1;33m]\u001b[0m\u001b[1;33m)\u001b[0m\u001b[1;33m\u001b[0m\u001b[1;33m\u001b[0m\u001b[0m\n\u001b[0;32m      5\u001b[0m \u001b[0mY\u001b[0m \u001b[1;33m=\u001b[0m \u001b[0mnp\u001b[0m\u001b[1;33m.\u001b[0m\u001b[0marray\u001b[0m\u001b[1;33m(\u001b[0m\u001b[1;33m[\u001b[0m\u001b[1;33m]\u001b[0m\u001b[1;33m)\u001b[0m\u001b[1;33m\u001b[0m\u001b[1;33m\u001b[0m\u001b[0m\n\u001b[1;32m----> 6\u001b[1;33m \u001b[1;32mwith\u001b[0m \u001b[0mopen\u001b[0m\u001b[1;33m(\u001b[0m\u001b[1;34m\"ex2data1.csv\"\u001b[0m\u001b[1;33m,\u001b[0m \u001b[1;34m\"r\"\u001b[0m\u001b[1;33m)\u001b[0m \u001b[1;32mas\u001b[0m \u001b[0mfile\u001b[0m\u001b[1;33m:\u001b[0m\u001b[1;33m\u001b[0m\u001b[1;33m\u001b[0m\u001b[0m\n\u001b[0m\u001b[0;32m      7\u001b[0m     \u001b[0mcsvr\u001b[0m \u001b[1;33m=\u001b[0m \u001b[0mcsv\u001b[0m\u001b[1;33m.\u001b[0m\u001b[0mreader\u001b[0m\u001b[1;33m(\u001b[0m\u001b[0mfile\u001b[0m\u001b[1;33m,\u001b[0m \u001b[0mdelimiter\u001b[0m\u001b[1;33m=\u001b[0m\u001b[1;34m','\u001b[0m\u001b[1;33m)\u001b[0m\u001b[1;33m\u001b[0m\u001b[1;33m\u001b[0m\u001b[0m\n\u001b[0;32m      8\u001b[0m \u001b[1;33m\u001b[0m\u001b[0m\n",
      "\u001b[1;31mFileNotFoundError\u001b[0m: [Errno 2] No such file or directory: 'ex2data1.csv'"
     ],
     "output_type": "error"
    }
   ],
   "source": [
    "import os\n",
    "\n",
    "X1 = np.array([])\n",
    "X2 = np.array([])\n",
    "Y = np.array([])\n",
    "with open(\"ex2data1.csv\", \"r\") as file:\n",
    "    csvr = csv.reader(file, delimiter=',')\n",
    "    \n",
    "    for linea in csvr:\n",
    "        X1 = np.append(X1,float(linea[0]))\n",
    "        X2 = np.append(X2,float(linea[1]))\n",
    "        Y = np.append(Y,float(linea[2]))\n",
    "        \n",
    "X = np.array([X1, X2])\n",
    "        \n",
    "pos = np.where(Y == 1)\n",
    "posn = np.where(Y == 0)\n",
    "plt.scatter(X[0,pos], X[1,pos], marker='.',c='g')\n",
    "plt.scatter(X[0,posn], X[1,posn], marker='x',c='r')\n",
    "plt.show()"
   ]
  },
  {
   "cell_type": "code",
   "execution_count": 6,
   "metadata": {},
   "outputs": [],
   "source": [
    "def sigmoid(z): \n",
    "    ret = np.array([])\n",
    "    for row in z:\n",
    "        r = np.array([])\n",
    "        for elem in row:\n",
    "            aux = 1.0/(1.0 + math.exp(float(-elem)))\n",
    "            r = np.append(r,aux)\n",
    "        ret = np.append(ret,r)\n",
    "    return ret\n",
    "\n",
    "def h(params,X):\n",
    "    hipot = np.array([])\n",
    "    \n",
    "    for i in range(len(X)):\n",
    "        paramet = np.array([])\n",
    "        for j in range(len(X[i])):\n",
    "                nelem = X[i][j] * params[j]\n",
    "                paramet = np.append(paramet,nelem)\n",
    "        hipot = np.append(hipot,paramet)\n",
    "        \n",
    "    return sigmoid(hipot) \n",
    "\n",
    "def h(params,X):\n",
    "    paramet = np.dot(X,params)\n",
    "    \n",
    "\n",
    "def costvector(X,Y, params):\n",
    "    logs = np.array([])\n",
    "    ilogs = np.array([])\n",
    "    \n",
    "    for row in X:\n",
    "        s= sigmoid([[np.dot(row,params)]])\n",
    "        \n",
    "        l = math.log(s[0][0])\n",
    "        il = math.log(1 - s[0][0])\n",
    "        \n",
    "        logs = np.append(logs,l)\n",
    "        ilogs = np.append(ilogs,il)\n",
    "       \n",
    "    logs = np.transpose(logs)\n",
    "    ilogs = np.transpose(ilogs)\n",
    "    \n",
    "    ones = np.dot(logs,Y)\n",
    "    zeros = np.dot(ilogs,np.ones(len(Y)) - Y)\n",
    "    return -1.0/(len(X)) * (one + zeros)\n",
    "\n",
    "def gradiante(X,Y, params):\n",
    "    s = sigmid([[np.dot()]])\n",
    "    \n",
    "    return 1.0/len(X)"
   ]
  },
  {
   "cell_type": "code",
   "execution_count": 70,
   "metadata": {},
   "outputs": [
    {
     "name": "stdout",
     "output_type": "stream",
     "text": [
      "[0.73105858 0.88079708 0.95257413 1.         0.99330715]\n"
     ]
    }
   ],
   "source": [
    "X = [[1, 2, 3, 22, 5]]\n",
    "Y= [10]\n",
    "Z = [[2,2,3],[2,5,7]]\n",
    "\n",
    "res = sigmoid(X)\n",
    "print(res)"
   ]
  },
  {
   "cell_type": "code",
   "execution_count": null,
   "metadata": {},
   "outputs": [],
   "source": []
  }
 ],
 "metadata": {
  "kernelspec": {
   "display_name": "Python 3",
   "language": "python",
   "name": "python3"
  },
  "language_info": {
   "codemirror_mode": {
    "name": "ipython",
    "version": 3
   },
   "file_extension": ".py",
   "mimetype": "text/x-python",
   "name": "python",
   "nbconvert_exporter": "python",
   "pygments_lexer": "ipython3",
   "version": "3.6.5"
  }
 },
 "nbformat": 4,
 "nbformat_minor": 2
}
